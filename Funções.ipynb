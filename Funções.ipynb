{
 "cells": [
  {
   "cell_type": "code",
   "execution_count": 1,
   "id": "80b1d975-79a8-46c6-86b0-0dcc2a124fe2",
   "metadata": {},
   "outputs": [],
   "source": [
    "# FUNÇÕES"
   ]
  },
  {
   "cell_type": "code",
   "execution_count": null,
   "id": "04074de9-68d3-47d3-9980-0ef4a26ab388",
   "metadata": {},
   "outputs": [],
   "source": [
    "# Funções def(), p1"
   ]
  },
  {
   "cell_type": "code",
   "execution_count": null,
   "id": "fa295d70-5a6d-471b-938a-a79d214c1e40",
   "metadata": {},
   "outputs": [],
   "source": [
    "# Crie uma função que print um texto na tela\n",
    "\n",
    "\n",
    "# def imprime():\n",
    "#     print('Texto na tela.')\n",
    "\n",
    "# imprime()"
   ]
  },
  {
   "cell_type": "code",
   "execution_count": null,
   "id": "6c927f3a-28de-4a5d-9c5f-2f121917813c",
   "metadata": {},
   "outputs": [],
   "source": [
    "# Crie uma função com parâmetro\n",
    "\n",
    "# def imprime(n):\n",
    "#     print(n)\n",
    "\n",
    "# x = 'Parâmetro de impressão'\n",
    "\n",
    "# imprime(x)"
   ]
  },
  {
   "cell_type": "code",
   "execution_count": null,
   "id": "66c72f5f-94ae-4ad1-8c78-701d3f25cd32",
   "metadata": {},
   "outputs": [],
   "source": [
    "# Crie uma função com retorno\n",
    "\n",
    "\n",
    "\n",
    "# def potencia(x):\n",
    "#     return x * x\n",
    "\n",
    "# a = potencia(3)\n",
    "# print('valor de a -> ', a)"
   ]
  },
  {
   "cell_type": "code",
   "execution_count": 6,
   "id": "82ade792-25c5-4f4e-a070-a7dec6c04bea",
   "metadata": {},
   "outputs": [
    {
     "name": "stdin",
     "output_type": "stream",
     "text": [
      "Digite um valor:  5\n"
     ]
    },
    {
     "data": {
      "text/plain": [
       "[7, 8, 9, 10, 11, 12, 13, 14, 15, 16]"
      ]
     },
     "execution_count": 6,
     "metadata": {},
     "output_type": "execute_result"
    }
   ],
   "source": [
    "# Crie uma função que tenha valor default OBS:\n",
    "\n",
    "\n",
    "# def intervalo(inic=1, fim=10):\n",
    "#     for inic in range(inic, fim+1):\n",
    "#         print(inic)\n",
    "\n",
    "# x = intervalo(1, 10)\n",
    "\n",
    "# y = intervalo()"
   ]
  },
  {
   "cell_type": "code",
   "execution_count": 7,
   "id": "6f8b96a5-5c04-4a35-bcab-91fc54548ef4",
   "metadata": {},
   "outputs": [
    {
     "name": "stdin",
     "output_type": "stream",
     "text": [
      "valor:  5\n"
     ]
    },
    {
     "data": {
      "text/plain": [
       "[2, 3, 4]"
      ]
     },
     "execution_count": 7,
     "metadata": {},
     "output_type": "execute_result"
    }
   ],
   "source": [
    "# Crie uma função cujo retorno exija a passagem de parâmetros de intervalo\n",
    "\n",
    "\n",
    "# def intervalo():\n",
    "#     y = int(input('n 1: '))\n",
    "#     z = int(input('n 2: '))\n",
    "#     if(y > z):\n",
    "#         for z in range(z, y+1):\n",
    "#             print(z)\n",
    "#     else:\n",
    "#         for y in range(y, z+1):\n",
    "#             print(y)\n",
    "\n",
    "# intervalo()"
   ]
  },
  {
   "cell_type": "code",
   "execution_count": 8,
   "id": "d90ceefe-b2da-4f82-becd-eeee7aa37335",
   "metadata": {},
   "outputs": [
    {
     "data": {
      "text/plain": [
       "25"
      ]
     },
     "execution_count": 8,
     "metadata": {},
     "output_type": "execute_result"
    }
   ],
   "source": [
    "# Crie uma função que retorne um número elevado ao quadrado\n",
    "\n",
    "\n",
    "# def potencia(x):\n",
    "#     return x ** 2\n",
    "\n",
    "# potencia(4)"
   ]
  },
  {
   "cell_type": "code",
   "execution_count": null,
   "id": "9b11738d-f8ce-4681-a574-0f0a0ad60089",
   "metadata": {},
   "outputs": [],
   "source": [
    "# função que gera uma lista, a partir de um intervalo (range), atribuído pelo usuário\n",
    "\n",
    "        \n",
    "# def gerar_lista():\n",
    "#     a = int(input('Digite um número: '))\n",
    "#     b = int(input('Digite mais um número'))\n",
    "#     if(a > b):\n",
    "#         lista = list(range(b, a+1))\n",
    "#         print(lista)\n",
    "#     elif(b > a):\n",
    "#         lista = list(range(a, b+1))\n",
    "#         print(lista)\n",
    "#     else:\n",
    "#         print('Não é possível criar uma lista porque os números informados são iguais')\n",
    "\n",
    "\n",
    "# gerar_lista()\n"
   ]
  },
  {
   "cell_type": "code",
   "execution_count": null,
   "id": "a71e36bc-5f98-4b41-80d9-a8c41f20a0bd",
   "metadata": {},
   "outputs": [],
   "source": [
    "# Funções nativas, p2"
   ]
  },
  {
   "cell_type": "code",
   "execution_count": null,
   "id": "ed00c910-5253-4a1a-a59c-1defa7cc91fd",
   "metadata": {},
   "outputs": [],
   "source": [
    "# Funções que não precisam ser importadas"
   ]
  },
  {
   "cell_type": "code",
   "execution_count": null,
   "id": "58f218b3-fd1e-422f-978c-fcad22723a17",
   "metadata": {},
   "outputs": [],
   "source": [
    "# Retorna valor absoluto (valor do número, se ele for negativo fica positivo)\n",
    "\n",
    "# j = -5\n",
    "# print('j ->', j, ' e abs(j) -> ', abs(j))"
   ]
  },
  {
   "cell_type": "code",
   "execution_count": null,
   "id": "41b37a40-8cb2-4d2a-9614-10e1eb9c40f8",
   "metadata": {},
   "outputs": [],
   "source": [
    "# Maior valor de uma lista\n",
    "\n",
    "# b = [10, 20, 30, 40, 50]\n",
    "# print('b -> ', b)\n",
    "# print('max(b) -> ', max(b))"
   ]
  },
  {
   "cell_type": "code",
   "execution_count": null,
   "id": "72331954-2ba5-401d-ae9f-4f09f1488aa2",
   "metadata": {},
   "outputs": [],
   "source": [
    "#  Menor valor de uma lista\n",
    "\n",
    "# print('min(b) -> ', min(b))"
   ]
  },
  {
   "cell_type": "code",
   "execution_count": null,
   "id": "734155f4-654e-4aeb-9d6f-28533bd2c941",
   "metadata": {},
   "outputs": [],
   "source": [
    "# Arredondar \n",
    "\n",
    "\n",
    "# c = 5.3\n",
    "# print('c = ', c,', round(c) -> ', round(c))\n",
    "\n",
    "# (obs: essa operação também pode ser executada com a função ceil da biblioteca math)"
   ]
  },
  {
   "cell_type": "code",
   "execution_count": null,
   "id": "e48a3b7d-6961-49c7-bedd-c1d975018d0f",
   "metadata": {},
   "outputs": [],
   "source": [
    "# Uso da função round para reduzir um float a uma determinada quantidade de casas decimais\n",
    "\n",
    "\n",
    "# a = 25.87896\n",
    "# print('valor sem arredondar -> ', a)\n",
    "# a = round(a, 2)\n",
    "# print('valor arredondado', a)\n",
    "\n",
    "# Obs: Também pode ser feito com format()"
   ]
  },
  {
   "cell_type": "code",
   "execution_count": 5,
   "id": "5066b436-9f31-4b3c-86a1-443200e3e585",
   "metadata": {},
   "outputs": [
    {
     "name": "stdout",
     "output_type": "stream",
     "text": [
      "3.2 normal\n",
      " - b - com duas casas decimais -> 3.20.\n"
     ]
    }
   ],
   "source": [
    "# Faça o float de uma só casa virar um float de duas\n",
    "\n",
    "# b = 3.2\n",
    "# print(b, 'normal')\n",
    "# print(' - b - com duas casas decimais -> {:.2f}.'.format(b))        "
   ]
  },
  {
   "cell_type": "code",
   "execution_count": null,
   "id": "1259a661-2e3b-40c9-9c43-347861ae1e32",
   "metadata": {},
   "outputs": [],
   "source": [
    "#  soma dos elementos de uma lista\n",
    "\n",
    "\n",
    "# print('sum(b) -> ', sum(b))"
   ]
  },
  {
   "cell_type": "code",
   "execution_count": null,
   "id": "bd326579-d7ae-4f8a-897f-cbd20e8d5914",
   "metadata": {},
   "outputs": [],
   "source": [
    "# Função map():\n",
    "\n",
    "\n",
    "# lista = list(range(1, 10))\n",
    "# nova_lista = list(map(lambda x: x * 2, lista))\n",
    "# print(nova_lista)\n",
    "\n",
    "\n",
    "# Obs: é usada para aplicar uma função a cada item de um iteirável e retornar um novo iterável com os resultados\n",
    "# A sintaxe da função map() é a seguinte:\n",
    "# map(função, iterável)"
   ]
  },
  {
   "cell_type": "code",
   "execution_count": null,
   "id": "2c60e659-9044-4246-b0cc-c027b9af0bc1",
   "metadata": {},
   "outputs": [],
   "source": [
    "# Função filter()\n",
    "\n",
    "# lista = list(range(1, 10))\n",
    "# nova_lista = list(filter(lambda x: x % 2 == 0, lista))\n",
    "# print(nova_lista)\n",
    "\n",
    "# Obs: é usada para retornar uma lista de elementos de uma lista que satisfazem uma determinada condição\n",
    "# A sintaxe da função filter() é a seguinte:\n",
    "# filter(função, lista)"
   ]
  },
  {
   "cell_type": "code",
   "execution_count": null,
   "id": "43e5e80d-187e-4957-b622-8316a9d2c1df",
   "metadata": {},
   "outputs": [],
   "source": [
    "# Uso do filter(), com função def()\n",
    "\n",
    "\n",
    "# def impares(x):\n",
    "#     return x % 2 != 0\n",
    "\n",
    "# lista_impar = list(filter(impares, lista))   \n",
    "# print(f'Lista de ns impares -> {lista_impar}') "
   ]
  },
  {
   "cell_type": "code",
   "execution_count": null,
   "id": "a9058129-2fce-4cc4-beef-6e0fc54824c8",
   "metadata": {},
   "outputs": [],
   "source": [
    "# Uso do format(): \n",
    "\n",
    "# Obs: Pesquisar todos os usos para o format e imprimir nas células abaixo"
   ]
  },
  {
   "cell_type": "code",
   "execution_count": 28,
   "id": "5a48a24d-acdd-4203-b3fe-f0c1fb305788",
   "metadata": {},
   "outputs": [
    {
     "name": "stdout",
     "output_type": "stream",
     "text": [
      "24.0\n",
      "aumentar para dois zeros: 24.00\n",
      "aumentar para tres  zeros: 24.000\n"
     ]
    }
   ],
   "source": [
    "# Uso do format para aumentar as casas decimais\n",
    "\n",
    "# a = 24.0\n",
    "# print(a)\n",
    "\n",
    "# print('aumentar para dois zeros: {:.2f}'.format(a))\n",
    "# print('aumentar para tres  zeros: {:.3f}'.format(a))"
   ]
  },
  {
   "cell_type": "code",
   "execution_count": null,
   "id": "b1ee9cdf-8106-4a1e-b69b-94b8f95a9152",
   "metadata": {},
   "outputs": [],
   "source": [
    "# Obs: Pelos meus testes não consegui acrescentar casas decimais, apenas reduzir usando round()\n",
    "# ... Por isso, quando há necessidade de aumentar casas decimais, tenho usado o format:\n",
    "\n",
    "# Ex:\n",
    "# a = 24.0\n",
    "# print(a)\n",
    "# b = 13.0\n",
    "# print(b)\n",
    "\n",
    "# mensagem = 'É assim que se faz o duplo zero: {:.2f} e {:.2f}, usando format.'.format(a, b)\n",
    "# print(mensagem)\n",
    "\n",
    "# Usando o format de outra maneira:\n",
    "# Ex:\n",
    "# a = 25.458654\n",
    "# print(a)\n",
    "# a = format(a, '.2f')\n",
    "# print(a)\n",
    "# Obs: caso de uso, sem utilizar o ponto antes do 2f:\n",
    "\n",
    "# x = 152\n",
    "# print(x)\n",
    "# y = format(x, '4f')\n",
    "# print(y)\n",
    "# w = format(x, '10f')\n",
    "# print(w)\n",
    "# Obs: ele sempre retorna seis zeros\n",
    "\n",
    "# Obs: Por sincretizar as operações de várias maneiras considero o format mais completo"
   ]
  },
  {
   "cell_type": "code",
   "execution_count": null,
   "id": "a855af82-a93f-4f86-b5cf-e23cda2b77bc",
   "metadata": {},
   "outputs": [],
   "source": [
    "# isinstance()\n",
    "\n",
    "# tupla = ('luz', 'camera', 'ação')\n",
    "\n",
    "# if isinstance(tupla, tuple):\n",
    "#     print('sim')\n",
    "# else:\n",
    "#     print('não')\n",
    "\n",
    "\n",
    "# isinstance() -> é usado para verificar se um objeto é uma instância de uma determinada classe ou de uma subclasse dela. \n",
    "# Ele retorna um valor booleano, True se o objeto for uma instância da classe especificada ou de uma subclasse dela, \n",
    "# ou False caso contrário."
   ]
  },
  {
   "cell_type": "code",
   "execution_count": 1,
   "id": "0bc3e237-7132-44b1-9081-6081a7952a1c",
   "metadata": {},
   "outputs": [
    {
     "name": "stdout",
     "output_type": "stream",
     "text": [
      "Olá, Mundo! 2024\n",
      "['Olá,', 'Mundo!', '2024']\n"
     ]
    }
   ],
   "source": [
    "# split()\n",
    "\n",
    "\n",
    "string = 'Olá, Mundo! 2024'\n",
    "\n",
    "lista = string.split()\n",
    "\n",
    "print(string)\n",
    "print(lista)\n",
    "\n",
    "# usada para dividir uma string em uma lista de substrings. \n",
    "# O parâmetro obrigatório da função é o separador, que é o caractere ou sequência de caracteres que será usado para dividir a string. \n",
    "# Se o separador não for especificado, o espaço em branco será usado como o separador padrão"
   ]
  },
  {
   "cell_type": "code",
   "execution_count": null,
   "id": "379c3ff1-ff43-4669-abf3-0ae51c9e13a5",
   "metadata": {},
   "outputs": [],
   "source": [
    "# Funções, p3\n",
    "# Módulos nativos que podem ser importados, mas sem necessidade de instalar"
   ]
  },
  {
   "cell_type": "code",
   "execution_count": 4,
   "id": "db0ce844-63c9-4cb0-999f-8ff7721246cb",
   "metadata": {},
   "outputs": [],
   "source": [
    "import statistics as sts"
   ]
  },
  {
   "cell_type": "code",
   "execution_count": 2,
   "id": "b2ecbc53-f85c-4801-a40a-4e8990693fd7",
   "metadata": {},
   "outputs": [],
   "source": [
    "# Criar Lista\n",
    "\n",
    "a = [10, 20, 30, 40, 50, 60]"
   ]
  },
  {
   "cell_type": "code",
   "execution_count": 5,
   "id": "ff8d804e-6569-4bd5-ba36-3c433bb5428e",
   "metadata": {},
   "outputs": [
    {
     "name": "stdout",
     "output_type": "stream",
     "text": [
      "mean(a) ->  35\n"
     ]
    }
   ],
   "source": [
    "# calcular média\n",
    "\n",
    "\n",
    "# mean() -> calcula a média\n",
    "print('mean(a) -> ', sts.mean(a))"
   ]
  },
  {
   "cell_type": "code",
   "execution_count": null,
   "id": "c855208e-0ef3-4052-a1ab-bf7c48507893",
   "metadata": {},
   "outputs": [],
   "source": [
    "# Calcular mediana\n",
    "\n",
    "\n",
    "# median() -> calcula a mediana\n",
    "# print('median(a) ', sts.median(a))"
   ]
  },
  {
   "cell_type": "code",
   "execution_count": null,
   "id": "5a762b45-9047-4462-80c0-7547f38c6739",
   "metadata": {},
   "outputs": [],
   "source": [
    "# Encontrar a moda\n",
    "\n",
    "\n",
    "# mode() -> moda \n",
    "# print(a)\n",
    "# print('moda -> ', sts.mode(a))"
   ]
  },
  {
   "cell_type": "code",
   "execution_count": null,
   "id": "4c03d7da-c54a-4152-a892-9192ea4ba69b",
   "metadata": {},
   "outputs": [],
   "source": [
    "# Encontrar o desvio padrão\n",
    "\n",
    "\n",
    "# stdev() -> calcula o desvio padrão\n",
    "# print('stdev(a) -> ', sts.stdev(a))"
   ]
  },
  {
   "cell_type": "code",
   "execution_count": null,
   "id": "ca0e3e6a-84f0-40e5-9797-f53c91ca8e1d",
   "metadata": {},
   "outputs": [],
   "source": [
    "# Encontrar a variância\n",
    "\n",
    "\n",
    "# variance() -> Calcula a variância\n",
    "# print('variance(a) -> ', sts.variance(a))"
   ]
  },
  {
   "cell_type": "code",
   "execution_count": null,
   "id": "6b2faddd-1995-4f37-a2d3-4e943d0d8898",
   "metadata": {},
   "outputs": [],
   "source": [
    "# Descobrir o tamanho de uma lista \n",
    "\n",
    "\n",
    "# print('tamanho da lista b:')\n",
    "# print(len(b))"
   ]
  },
  {
   "cell_type": "code",
   "execution_count": null,
   "id": "5380e2c2-1eb7-489a-8bb4-ec7e81e8a83e",
   "metadata": {},
   "outputs": [],
   "source": [
    "# Funções, p3\n",
    "# Uso de Lambda"
   ]
  },
  {
   "cell_type": "code",
   "execution_count": null,
   "id": "60d0e349-408c-4fa4-b643-cc6b1924679c",
   "metadata": {},
   "outputs": [],
   "source": [
    "# Obs: é uma maneira de criar funções anônimas de forma concisa. \n",
    "# Essas funções são chamadas de anônimas porque não são definidas com um nome como as funções regulare\n",
    "\n",
    "# A estrutura básica da função lambda é a seguinte:\n",
    "\n",
    "# lambda argumentos : expressão\n",
    "\n",
    "# Exs:\n",
    "    \n",
    "# dobro = lambda x: x * 2\n",
    "# print(dobro(5))\n",
    "\n",
    "# Uma das principais vantagens das funções lambda é que elas podem ser usadas como argumentos para outras funções. \n",
    "# Aqui está um exemplo disso, usando a função map():\n",
    "    \n",
    "# lista = [1, 2, 3, 4, 5]\n",
    "# dobro_lista = list(map(lambda x: x * 2, lista))\n",
    "# print(dobro_lista)  # Output: [2, 4, 6, 8, 10]"
   ]
  },
  {
   "cell_type": "code",
   "execution_count": 30,
   "id": "f65bedb0-a4cc-4200-b7bd-f673df73b176",
   "metadata": {},
   "outputs": [
    {
     "name": "stdout",
     "output_type": "stream",
     "text": [
      "30\n",
      "60\n"
     ]
    }
   ],
   "source": [
    "# Função para dobrar um valor usando lambda\n",
    "\n",
    "a = 30 \n",
    "print(a)\n",
    "\n",
    "funcao = lambda x: x * 2\n",
    "\n",
    "dobro = funcao(a)\n",
    "print(dobro)"
   ]
  },
  {
   "cell_type": "code",
   "execution_count": null,
   "id": "1d7d8b56-ae17-4458-a8f2-b3002804d832",
   "metadata": {},
   "outputs": [],
   "source": [
    "# Crie uma lista e encontre a amplitude usando lambda\n",
    "\n",
    "\n",
    "# lista = list(range(2, 10, 2))\n",
    "# print(lista)\n",
    "\n",
    "# amplitude = lambda x: max(x) - min(x)\n",
    "\n",
    "# amplitude(lista)"
   ]
  },
  {
   "cell_type": "code",
   "execution_count": null,
   "id": "a85fb6ea-c20c-40fc-9abc-96ae6282fcbc",
   "metadata": {},
   "outputs": [],
   "source": [
    "# função para dobrar o valor de cada elemento de uma lista\n",
    "\n",
    "\n",
    "# lista = list(range(10))\n",
    "# dobra_lista = lambda x: x*2\n",
    "\n",
    "# lista_dobrada = list(map(dobra_lista, lista))\n",
    "\n",
    "# print(lista)\n",
    "# print(lista_dobrada)"
   ]
  },
  {
   "cell_type": "code",
   "execution_count": null,
   "id": "7642ae2c-0a99-4d66-8904-477506138709",
   "metadata": {},
   "outputs": [],
   "source": [
    "# Dividindo os valores de uma lista por dois, aplicando lambda \n",
    "\n",
    "\n",
    "# lista_dividida_por_2 = list(map(lambda x: x / 2, lista_dobrada))\n",
    "# print(lista_dividida_por_2)"
   ]
  },
  {
   "cell_type": "code",
   "execution_count": null,
   "id": "ba1356ac-fdf6-4d1d-9082-286de00cc4a7",
   "metadata": {},
   "outputs": [],
   "source": [
    "# Usando lambda para somar os valores de uma lista\n",
    "\n",
    "\n",
    "# soma = lambda x: sum(x)\n",
    "# print(soma(lista))"
   ]
  },
  {
   "cell_type": "code",
   "execution_count": null,
   "id": "8c7193fd-bbc8-4563-bf60-9038dbc22679",
   "metadata": {},
   "outputs": [],
   "source": [
    "# Aplicando lambda para filtrar os elementos pares de uma lista\n",
    "\n",
    "\n",
    "# lista = list(range(1, 10))\n",
    "\n",
    "# nova_lista = list(filter(lambda x: x % 2 == 0, lista))\n",
    "# print(nova_lista)"
   ]
  },
  {
   "cell_type": "code",
   "execution_count": null,
   "id": "0c48bc20-23cf-422b-8ffa-4f28a31dba28",
   "metadata": {},
   "outputs": [],
   "source": [
    "# OBSERVAÇÕES IMPORTANTES SOBRE FUNÇÕES"
   ]
  },
  {
   "cell_type": "code",
   "execution_count": null,
   "id": "1c1f987d-5573-48ff-a58b-9883439a3a7e",
   "metadata": {},
   "outputs": [],
   "source": [
    "# 1º -> Se ao criar uma função você atribuir um valor default ao parâmetro, ao chamar a função, passar o parâmetro torna-se opcional:\n",
    "\n",
    "# def mensagem(nome='Ricardo'):\n",
    "#     print(f\"seja bem vindo {nome}.\")\n",
    "\n",
    "# mensagem()\n",
    "# mensagem('Rico')"
   ]
  },
  {
   "cell_type": "code",
   "execution_count": null,
   "id": "33e9dbe5-a5a8-4f5d-a430-887ceadfcb84",
   "metadata": {},
   "outputs": [],
   "source": [
    "# 2º -> Funções python podem retornar mais de um valor\n",
    "\n",
    "# def antecessor_sucessor(x):\n",
    "#     antecessor = x - 1\n",
    "#     sucessor = x + 1\n",
    "#     return antecessor, sucessor\n",
    "\n",
    "# antecessor_sucessor(10)\n"
   ]
  },
  {
   "cell_type": "code",
   "execution_count": null,
   "id": "fe80056a-82c1-4e61-baef-21de9caa20c3",
   "metadata": {},
   "outputs": [],
   "source": [
    "# 3º Argumentos nomeados: Há algumas formas de passar os valores de parâmetro de uma função, mas as principais são utilizando a lista de parâmetros na ..\n",
    "# ..ordem em que elas estão referidas na criação da função, ou, também é possível passar os nomes dos parâmetros, desde que, não haja diferença entre os nomes..\n",
    "# .. na criação da função, e na passagem de parâmetros para sua aplicação\n",
    "\n",
    "# def carros(marca, modelo, ano, placa):\n",
    "#     print(f'A marca do carro é: {marca};')\n",
    "#     print(f'O modelo do carro é {modelo};')\n",
    "#     print(f'O ano do carro é {ano};')\n",
    "#     print(f'E a placa do carro é {placa}.')\n",
    "    \n",
    "# carros('Fiat', 'Compass', '2022', 'ghj-5264') # Chamada pela ordem da função, sem a necessidade de nomear os parâmetros\n",
    "\n",
    "# carros(modelo='Renegage', ano='2023', placa='kjl-5648', marca='Fiat') # Chamada nomeada, não precisa estar na ordem, mas os nomes precisam ser iguais\n"
   ]
  },
  {
   "cell_type": "code",
   "execution_count": null,
   "id": "8dac800a-a22c-4ea0-ac0f-a1db7466ec81",
   "metadata": {},
   "outputs": [],
   "source": [
    "# 4º Parâmetros criados com \" * \", são args, e retornam como tuplas (valores separados por vírgula)\n",
    "# Parâmetros criados com \" ** \", são kwargs, e retornam como dicionários(valores com chave: valor)\n",
    "\n",
    "# def exibir_poema(data_extenso, *args, **kwargs):\n",
    "#     texto = \"\\n\".join(args)\n",
    "#     meta_dados = \"\\n\".join([f\"{chave.title()}: {valor}\" for chave, valor in kwargs.items()])\n",
    "#     mensagem = f\"{data_extenso}\\n\\n{texto}\\n\\n{meta_dados}\"\n",
    "#     print(mensagem)\n",
    "\n",
    "# exibir_poema(\n",
    "# \"Quinta-feira, 31 de agosto de 2023\",\n",
    "# \"Beautiful is better than ugly\",\n",
    "# \"Explicit is better than implicit\",\n",
    "# \"Simple is better than complex\",\n",
    "# \"Complex is better than complicated\",\n",
    "# \"Flat is better than nested\",\n",
    "# \"Sparse is better than dense\",\n",
    "# \"Readability counts\",\n",
    "# \"Special cases aren't special enough to break the rules\",\n",
    "# \"Although practicality beats purity\",\n",
    "# \"Errors should never pass silently\",\n",
    "# \"Unless explicitly silenced\",\n",
    "# \"In the face of ambiguity, refuse the temptation to guess\",\n",
    "# \"There should be one—and preferably only one—obvious way to do it\",\n",
    "# \"Although that way may not be obvious at first unless you're Dutch\",\n",
    "# \"Now is better than never\"\n",
    "# \"Although never is often better than *right* now\",\n",
    "# \"If the implementation is hard to explain, it's a bad idea\",\n",
    "# \"If the implementation is easy to explain, it may be a good idea\",\n",
    "# \"Namespaces are one honking great idea—let's do more of those\",\n",
    "# autor='Tim Peters',\n",
    "# ano=1999)"
   ]
  },
  {
   "cell_type": "code",
   "execution_count": null,
   "id": "70110520-bf35-431d-aa25-ed435d5627ad",
   "metadata": {},
   "outputs": [],
   "source": [
    "# 5º É possível forçar que os parâmetros sejam somente por posição -> (todos os parâmetros antes de \" / \")\n",
    "# Ou forçar que os parâmetros sejam usados apenas por keyword -> (todos os argumentos depois de \" * \")\n",
    "\n",
    "# Ex: def (pos1, pos2, /, pos3, *, pos4, pos5)\n",
    "\n",
    "# Nesse exemplo os argumentos 1 e 2 seão apenas posicionais\n",
    "# Os Argumentos 4 e 5, serão passados apenas com nomeação\n",
    "# E o argumento 3, será híbrido, ou seja, será opcional"
   ]
  },
  {
   "cell_type": "code",
   "execution_count": null,
   "id": "3b27df2a-f569-4a3c-af70-133c700380f8",
   "metadata": {},
   "outputs": [],
   "source": [
    "# FAÇA VOCÊ MESMO - Funções"
   ]
  },
  {
   "cell_type": "code",
   "execution_count": null,
   "id": "368e507e-fd78-46ec-8b6c-aa6a673d9c5f",
   "metadata": {},
   "outputs": [],
   "source": [
    "# Atividade 1\n",
    "\n",
    "# Função amplitude -> diferença entre maior e menor valor de uma lista\n",
    "\n",
    "lista = [15, 23, 4, 18, 46, 13]\n",
    "\n",
    "\n",
    "# lista = [10, 20, 30, 35, 40, 75, 115]\n",
    "\n",
    "# def amplitude(x):\n",
    "#     print(max(x) - min(x))\n",
    "\n",
    "# amplitude(lista)"
   ]
  },
  {
   "cell_type": "code",
   "execution_count": null,
   "id": "8895921d-a56a-4b16-9c46-3edc5a12b93c",
   "metadata": {},
   "outputs": [],
   "source": [
    "# Atividade 2\n",
    "\n",
    "# Função para imprimir de forma vertical\n",
    "\n",
    "# def vertical():\n",
    "#     x = str(input('Digite uma palavra: '))\n",
    "#     for inic in range(len(x)):\n",
    "#         print(x[inic])\n",
    "\n",
    "# vertical()\n"
   ]
  },
  {
   "cell_type": "code",
   "execution_count": null,
   "id": "217397b5-6d85-489c-90b8-416ca3da37b2",
   "metadata": {},
   "outputs": [],
   "source": [
    "# Atividade 3\n",
    "\n",
    "# Teste para receber o peso, em inteiros, de uma mercadoria e informar o valor do transporte\n",
    "# Se o peso for até 10, o valor será de R$ 20,00\n",
    "# Se for entre 11 e 20, o valor será de R$ 50,00\n",
    "# Se for maior que 20, ou menor ou igual a 0, o transporte não é aceito\n",
    "\n",
    "# def valor_peso():\n",
    "#     peso = float(input('Insira o peso do objeto para transporte: '))\n",
    "#     if(peso > 0 and peso <= 10):\n",
    "#         print('O custo para transporte será R$ 20,00.')\n",
    "#     elif(peso > 10 and peso <= 20):\n",
    "#         print('O custo para transporte será R$ 50,00.')\n",
    "#     else:\n",
    "#         print('O objeto não pode ser transportado com o peso indicado.')\n",
    "        \n",
    "# valor_peso()"
   ]
  }
 ],
 "metadata": {
  "kernelspec": {
   "display_name": "Python 3 (ipykernel)",
   "language": "python",
   "name": "python3"
  },
  "language_info": {
   "codemirror_mode": {
    "name": "ipython",
    "version": 3
   },
   "file_extension": ".py",
   "mimetype": "text/x-python",
   "name": "python",
   "nbconvert_exporter": "python",
   "pygments_lexer": "ipython3",
   "version": "3.10.9"
  }
 },
 "nbformat": 4,
 "nbformat_minor": 5
}
